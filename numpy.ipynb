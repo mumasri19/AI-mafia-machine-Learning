{
 "cells": [
  {
   "cell_type": "code",
   "execution_count": null,
   "id": "ca6c06ae",
   "metadata": {},
   "outputs": [],
   "source": [
    "print(\"hello,world\")\n",
    "\n"
   ]
  },
  {
   "cell_type": "markdown",
   "id": "8865fd6b",
   "metadata": {},
   "source": [
    "erttttttt#g"
   ]
  },
  {
   "cell_type": "code",
   "execution_count": null,
   "id": "e22d216f",
   "metadata": {},
   "outputs": [],
   "source": [
    "pip3 install numpy\n",
    "\n",
    "\n",
    "\n",
    "\n"
   ]
  },
  {
   "cell_type": "code",
   "execution_count": 1,
   "id": "452bf205",
   "metadata": {},
   "outputs": [],
   "source": [
    "import numpy as np"
   ]
  },
  {
   "cell_type": "code",
   "execution_count": 2,
   "id": "b653813e",
   "metadata": {},
   "outputs": [],
   "source": [
    "arr=np.array([[1,2,3],\n",
    "        [4,2,5],[4,2,5],[4,2,5],[4,2,5]])"
   ]
  },
  {
   "cell_type": "code",
   "execution_count": 3,
   "id": "dbcafe16",
   "metadata": {},
   "outputs": [
    {
     "data": {
      "text/plain": [
       "numpy.ndarray"
      ]
     },
     "execution_count": 3,
     "metadata": {},
     "output_type": "execute_result"
    }
   ],
   "source": [
    "type(arr)"
   ]
  },
  {
   "cell_type": "code",
   "execution_count": 4,
   "id": "aa09e6bb",
   "metadata": {},
   "outputs": [
    {
     "data": {
      "text/plain": [
       "2"
      ]
     },
     "execution_count": 4,
     "metadata": {},
     "output_type": "execute_result"
    }
   ],
   "source": [
    "arr.ndim"
   ]
  },
  {
   "cell_type": "code",
   "execution_count": 5,
   "id": "57b64be2",
   "metadata": {},
   "outputs": [
    {
     "data": {
      "text/plain": [
       "(5, 3)"
      ]
     },
     "execution_count": 5,
     "metadata": {},
     "output_type": "execute_result"
    }
   ],
   "source": [
    "arr.shape\n"
   ]
  },
  {
   "cell_type": "code",
   "execution_count": 6,
   "id": "796b47e8",
   "metadata": {},
   "outputs": [
    {
     "data": {
      "text/plain": [
       "15"
      ]
     },
     "execution_count": 6,
     "metadata": {},
     "output_type": "execute_result"
    }
   ],
   "source": [
    "arr.size"
   ]
  },
  {
   "cell_type": "code",
   "execution_count": 7,
   "id": "6e65c5ba",
   "metadata": {},
   "outputs": [
    {
     "data": {
      "text/plain": [
       "dtype('int32')"
      ]
     },
     "execution_count": 7,
     "metadata": {},
     "output_type": "execute_result"
    }
   ],
   "source": [
    "arr.dtype"
   ]
  },
  {
   "cell_type": "code",
   "execution_count": 8,
   "id": "66f1a8d9",
   "metadata": {},
   "outputs": [
    {
     "name": "stdout",
     "output_type": "stream",
     "text": [
      "array created by list:\n",
      " [[1. 2. 3.]\n",
      " [4. 6. 5.]]\n"
     ]
    }
   ],
   "source": [
    "a=np.array([[1,2,3],[4,6,5]],dtype='float')\n",
    "print(\"array created by list:\\n\",a)"
   ]
  },
  {
   "cell_type": "code",
   "execution_count": 9,
   "id": "2e9b80fe",
   "metadata": {},
   "outputs": [
    {
     "name": "stdout",
     "output_type": "stream",
     "text": [
      "array created by tuple:\n",
      " [1 2 3]\n"
     ]
    }
   ],
   "source": [
    "b=np.array((1,2,3))\n",
    "print(\"array created by tuple:\\n\",b)"
   ]
  },
  {
   "cell_type": "code",
   "execution_count": 10,
   "id": "175b59f2",
   "metadata": {},
   "outputs": [],
   "source": [
    " c=np.zeros((3,4))"
   ]
  },
  {
   "cell_type": "code",
   "execution_count": 11,
   "id": "639a42ff",
   "metadata": {},
   "outputs": [
    {
     "data": {
      "text/plain": [
       "array([[0., 0., 0., 0.],\n",
       "       [0., 0., 0., 0.],\n",
       "       [0., 0., 0., 0.]])"
      ]
     },
     "execution_count": 11,
     "metadata": {},
     "output_type": "execute_result"
    }
   ],
   "source": [
    "c"
   ]
  },
  {
   "cell_type": "code",
   "execution_count": 12,
   "id": "3481c5ba",
   "metadata": {},
   "outputs": [
    {
     "data": {
      "text/plain": [
       "array([[1., 1., 1., 1.],\n",
       "       [1., 1., 1., 1.],\n",
       "       [1., 1., 1., 1.]])"
      ]
     },
     "execution_count": 12,
     "metadata": {},
     "output_type": "execute_result"
    }
   ],
   "source": [
    "np.ones((3,4))"
   ]
  },
  {
   "cell_type": "code",
   "execution_count": 13,
   "id": "43b5a1cb",
   "metadata": {},
   "outputs": [
    {
     "data": {
      "text/plain": [
       "array([[1., 0., 0.],\n",
       "       [0., 1., 0.],\n",
       "       [0., 0., 1.]])"
      ]
     },
     "execution_count": 13,
     "metadata": {},
     "output_type": "execute_result"
    }
   ],
   "source": [
    "np.eye(3)"
   ]
  },
  {
   "cell_type": "code",
   "execution_count": 14,
   "id": "02cdc827",
   "metadata": {},
   "outputs": [],
   "source": [
    "np.arange?"
   ]
  },
  {
   "cell_type": "code",
   "execution_count": 16,
   "id": "0e0517a2",
   "metadata": {},
   "outputs": [],
   "source": [
    "np.eye?"
   ]
  },
  {
   "cell_type": "code",
   "execution_count": 18,
   "id": "82e082de",
   "metadata": {},
   "outputs": [
    {
     "name": "stdout",
     "output_type": "stream",
     "text": [
      "\n",
      "A sequential array with steps of 5:\n",
      " [ 0  5 10 15 20 25]\n",
      "\n",
      "A sequential array with 10 values bt 0 and 5:\n",
      " [0.         0.55555556 1.11111111 1.66666667 2.22222222 2.77777778\n",
      " 3.33333333 3.88888889 4.44444444 5.        ]\n"
     ]
    }
   ],
   "source": [
    "f=np.arange(0,30,5)\n",
    "print(\"\\nA sequential array with steps of 5:\\n\",f)\n",
    "#\n",
    "q=np.linspace(0,5,10)\n",
    "print(\"\\nA sequential array with 10 values bt 0 and 5:\\n\",q)"
   ]
  },
  {
   "cell_type": "code",
   "execution_count": 19,
   "id": "2562ffb2",
   "metadata": {},
   "outputs": [
    {
     "name": "stdout",
     "output_type": "stream",
     "text": [
      "\n",
      "An array intialized with all 6s.array type is complex:\n",
      " [[6.+0.j 6.+0.j 6.+0.j]\n",
      " [6.+0.j 6.+0.j 6.+0.j]\n",
      " [6.+0.j 6.+0.j 6.+0.j]]\n"
     ]
    }
   ],
   "source": [
    "d=np.full((3,3),6,dtype='complex')\n",
    "print(\"\\nAn array intialized with all 6s.array type is complex:\\n\",d)\n"
   ]
  },
  {
   "cell_type": "code",
   "execution_count": 20,
   "id": "c5369fc7",
   "metadata": {},
   "outputs": [
    {
     "name": "stdout",
     "output_type": "stream",
     "text": [
      "\n",
      "A random array:\n",
      " [[0.9321333  0.1844432 ]\n",
      " [0.71173306 0.18062791]]\n"
     ]
    }
   ],
   "source": [
    "e=np.random.random((2,2))\n",
    "print(\"\\nA random array:\\n\",e)"
   ]
  },
  {
   "cell_type": "code",
   "execution_count": 22,
   "id": "0d9ae901",
   "metadata": {},
   "outputs": [
    {
     "name": "stdout",
     "output_type": "stream",
     "text": [
      "\n",
      " original array:\n",
      " [[1 2 3 4]\n",
      " [5 2 4 2]\n",
      " [1 2 0 1]]\n",
      "reshaped array:\n",
      " [[[1 2 3]\n",
      "  [4 5 2]]\n",
      "\n",
      " [[4 2 1]\n",
      "  [2 0 1]]]\n"
     ]
    }
   ],
   "source": [
    "arr=np.array([[1,2,3,4],\n",
    "             [5,2,4,2],\n",
    "             [1,2,0,1]])\n",
    "newarr=arr.reshape(2,2,3)\n",
    "print(\"\\n original array:\\n\",arr)\n",
    "print(\"reshaped array:\\n\",newarr)"
   ]
  },
  {
   "cell_type": "code",
   "execution_count": 23,
   "id": "b72f736d",
   "metadata": {},
   "outputs": [
    {
     "name": "stdout",
     "output_type": "stream",
     "text": [
      "\n",
      " original array:\n",
      " [[1 2 3]\n",
      " [4 5 6]]\n",
      "\n",
      " flattened array:\n",
      " [[1 2 3]\n",
      " [4 5 6]]\n"
     ]
    }
   ],
   "source": [
    "arr=np.array([[1,2,3],[4,5,6]])\n",
    "flarr=arr.flatten()\n",
    "print(\"\\n original array:\\n\",arr)\n",
    "print(\"\\n flattened array:\\n\",arr)\n"
   ]
  },
  {
   "cell_type": "code",
   "execution_count": 24,
   "id": "c75f8d3b",
   "metadata": {},
   "outputs": [
    {
     "name": "stdout",
     "output_type": "stream",
     "text": [
      "Array with first 2 rows and alternate columns(0 and 2):\n",
      " [[-1.  0.]\n",
      " [ 4.  6.]]\n"
     ]
    }
   ],
   "source": [
    "arr=np.array([[-1,2,0,4],\n",
    "             [4,-0.5,6,0],\n",
    "             [2.6,0,7,8],\n",
    "             [3,-7,4,2.0]])\n",
    "temp=arr[:2,::2]\n",
    "print(\"Array with first 2 rows and alternate columns(0 and 2):\\n\",temp)"
   ]
  },
  {
   "cell_type": "code",
   "execution_count": 25,
   "id": "026fc0ef",
   "metadata": {},
   "outputs": [
    {
     "name": "stdout",
     "output_type": "stream",
     "text": [
      "\n",
      "Elements at indices (0,3),(1,2),(2,1),(3,0):\n",
      " [4. 6. 0. 3.]\n"
     ]
    }
   ],
   "source": [
    "temp=arr[[0,1,2,3],[3,2,1,0]]\n",
    "print(\"\\nElements at indices (0,3),(1,2),(2,1),(3,0):\\n\",temp)"
   ]
  },
  {
   "cell_type": "code",
   "execution_count": 27,
   "id": "f67de6ec",
   "metadata": {},
   "outputs": [
    {
     "name": "stdout",
     "output_type": "stream",
     "text": [
      "\n",
      "Element greater than 0:\n",
      " [2.  4.  4.  6.  2.6 7.  8.  3.  4.  2. ]\n"
     ]
    }
   ],
   "source": [
    "cond=arr>0\n",
    "temp=arr[cond]\n",
    "print(\"\\nElement greater than 0:\\n\",temp)"
   ]
  },
  {
   "cell_type": "code",
   "execution_count": null,
   "id": "364af776",
   "metadata": {},
   "outputs": [],
   "source": [
    "#basic operations"
   ]
  },
  {
   "cell_type": "code",
   "execution_count": 28,
   "id": "4ad1dda3",
   "metadata": {},
   "outputs": [
    {
     "name": "stdout",
     "output_type": "stream",
     "text": [
      "adding 1 to every element: [2 3 6 4]\n"
     ]
    }
   ],
   "source": [
    "a=np.array([1,2,5,3])\n",
    "print(\"adding 1 to every element:\",a+1)"
   ]
  },
  {
   "cell_type": "code",
   "execution_count": 29,
   "id": "705f9905",
   "metadata": {},
   "outputs": [
    {
     "name": "stdout",
     "output_type": "stream",
     "text": [
      "sub 3 to every element: [-2 -1  2  0]\n"
     ]
    }
   ],
   "source": [
    "print(\"sub 3 to every element:\",a-3)"
   ]
  },
  {
   "cell_type": "code",
   "execution_count": 30,
   "id": "6a1bd2d0",
   "metadata": {},
   "outputs": [
    {
     "name": "stdout",
     "output_type": "stream",
     "text": [
      "mul 10 to every element: [10 20 50 30]\n"
     ]
    }
   ],
   "source": [
    "print(\"mul 10 to every element:\",a*10)"
   ]
  },
  {
   "cell_type": "code",
   "execution_count": 31,
   "id": "c036fa89",
   "metadata": {},
   "outputs": [
    {
     "name": "stdout",
     "output_type": "stream",
     "text": [
      "squaring   every element: [ 1  4 25  9]\n"
     ]
    }
   ],
   "source": [
    "print(\"squaring   every element:\",a**2)"
   ]
  },
  {
   "cell_type": "code",
   "execution_count": 32,
   "id": "bdcf689c",
   "metadata": {},
   "outputs": [
    {
     "name": "stdout",
     "output_type": "stream",
     "text": [
      "doubled each element of original array: [ 2  4 10  6]\n"
     ]
    }
   ],
   "source": [
    "a*=2\n",
    "print(\"doubled each element of original array:\",a)"
   ]
  },
  {
   "cell_type": "code",
   "execution_count": 33,
   "id": "1b5ed13b",
   "metadata": {},
   "outputs": [
    {
     "name": "stdout",
     "output_type": "stream",
     "text": [
      "/noriginal array:/n [[1 2 3]\n",
      " [3 4 5]\n",
      " [9 6 0]]\n",
      "Transpose of array:\n",
      " [[1 3 9]\n",
      " [2 4 6]\n",
      " [3 5 0]]\n"
     ]
    }
   ],
   "source": [
    "a=np.array([[1,2,3],[3,4,5],[9,6,0]])\n",
    "print(\"/noriginal array:/n\",a)\n",
    "print(\"Transpose of array:\\n\",a.T)"
   ]
  },
  {
   "cell_type": "code",
   "execution_count": 34,
   "id": "add3abc3",
   "metadata": {},
   "outputs": [
    {
     "name": "stdout",
     "output_type": "stream",
     "text": [
      "largest element is: 9\n",
      "row-wise maximum elements: [6 7 9]\n"
     ]
    }
   ],
   "source": [
    "arr=np.array([[1,5,6],\n",
    "             [4,7,3],\n",
    "             [3,1,9]])\n",
    "print(\"largest element is:\",arr.max())\n",
    "print(\"row-wise maximum elements:\",arr.max(axis=1))\n"
   ]
  },
  {
   "cell_type": "code",
   "execution_count": 35,
   "id": "7f914ed8",
   "metadata": {},
   "outputs": [
    {
     "name": "stdout",
     "output_type": "stream",
     "text": [
      "column-wise minimum elements; 39\n"
     ]
    }
   ],
   "source": [
    "print(\"column-wise minimum elements;\",arr.sum())"
   ]
  },
  {
   "cell_type": "code",
   "execution_count": 36,
   "id": "58766425",
   "metadata": {},
   "outputs": [
    {
     "name": "stdout",
     "output_type": "stream",
     "text": [
      "cumulative sum along each row:\n",
      " [[ 1  6 12]\n",
      " [ 4 11 14]\n",
      " [ 3  4 13]]\n"
     ]
    }
   ],
   "source": [
    "print(\"cumulative sum along each row:\\n\",arr.cumsum(axis=1))"
   ]
  },
  {
   "cell_type": "code",
   "execution_count": 37,
   "id": "bc09ccde",
   "metadata": {},
   "outputs": [
    {
     "name": "stdout",
     "output_type": "stream",
     "text": [
      "array sum:\n",
      " [[5 5]\n",
      " [5 5]]\n"
     ]
    }
   ],
   "source": [
    "a=np.array([[1,2],\n",
    "          [3,4]])\n",
    "b=np.array([[4,3],\n",
    "           [2,1]])\n",
    "print(\"array sum:\\n\",a+b)"
   ]
  },
  {
   "cell_type": "code",
   "execution_count": 38,
   "id": "bd0a09de",
   "metadata": {},
   "outputs": [
    {
     "name": "stdout",
     "output_type": "stream",
     "text": [
      "array mul:\n",
      " [[4 6]\n",
      " [6 4]]\n"
     ]
    }
   ],
   "source": [
    "print(\"array mul:\\n\",a*b)"
   ]
  },
  {
   "cell_type": "code",
   "execution_count": 39,
   "id": "e0063729",
   "metadata": {},
   "outputs": [
    {
     "name": "stdout",
     "output_type": "stream",
     "text": [
      "matrix mul:\n",
      " [[ 8  5]\n",
      " [20 13]]\n"
     ]
    }
   ],
   "source": [
    "print(\"matrix mul:\\n\",a.dot(b))"
   ]
  },
  {
   "cell_type": "code",
   "execution_count": 42,
   "id": "4b38765c",
   "metadata": {},
   "outputs": [
    {
     "name": "stdout",
     "output_type": "stream",
     "text": [
      "array element in sorted order:\n",
      " [-1  0  1  2  3  4  4  5  6]\n"
     ]
    }
   ],
   "source": [
    "a=np.array([[1,4,2],\n",
    "           [3,4,6],\n",
    "           [0,-1,5]])\n",
    "print(\"array element in sorted order:\\n\",np.sort(a,axis=None))"
   ]
  },
  {
   "cell_type": "code",
   "execution_count": 43,
   "id": "939840e4",
   "metadata": {},
   "outputs": [
    {
     "name": "stdout",
     "output_type": "stream",
     "text": [
      "row-wise sorted array:\n",
      " [[ 1  2  4]\n",
      " [ 3  4  6]\n",
      " [-1  0  5]]\n"
     ]
    }
   ],
   "source": [
    "print(\"row-wise sorted array:\\n\",np.sort(a,axis=1))"
   ]
  },
  {
   "cell_type": "code",
   "execution_count": 44,
   "id": "77ea7b62",
   "metadata": {},
   "outputs": [
    {
     "name": "stdout",
     "output_type": "stream",
     "text": [
      "column wise sort by applying merge-sort:\n",
      " [[ 0 -1  2]\n",
      " [ 1  4  5]\n",
      " [ 3  4  6]]\n"
     ]
    }
   ],
   "source": [
    "print(\"column wise sort by applying merge-sort:\\n\",np.sort(a,axis=0,kind=\"mergesort\"))"
   ]
  },
  {
   "cell_type": "code",
   "execution_count": 58,
   "id": "f3611b36",
   "metadata": {},
   "outputs": [],
   "source": [
    "dtypes=[('name','S10'),('grad_year',int),('cgpa',float)]"
   ]
  },
  {
   "cell_type": "code",
   "execution_count": 59,
   "id": "b641252f",
   "metadata": {},
   "outputs": [],
   "source": [
    "values=[('hrithik',2009,8.5),('ajay',2008,8.7),('pankaj',2008,7.9),('aakash',2009,6.7)]"
   ]
  },
  {
   "cell_type": "code",
   "execution_count": 61,
   "id": "33011792",
   "metadata": {
    "scrolled": true
   },
   "outputs": [
    {
     "name": "stdout",
     "output_type": "stream",
     "text": [
      "\n",
      "array sorted by names:\n",
      " [(b'aakash', 2009, 6.7) (b'ajay', 2008, 8.7) (b'hrithik', 2009, 8.5)\n",
      " (b'pankaj', 2008, 7.9)]\n",
      "array sorted by graduation year and then cgpa:\n",
      " [(b'pankaj', 2008, 7.9) (b'ajay', 2008, 8.7) (b'aakash', 2009, 6.7)\n",
      " (b'hrithik', 2009, 8.5)]\n"
     ]
    }
   ],
   "source": [
    "arr=np.array(values,dtype=dtypes)\n",
    "print(\"\\narray sorted by names:\\n\",np.sort(arr,order='name'))\n",
    "print(\"array sorted by graduation year and then cgpa:\\n\",np.sort(arr,order=['grad_year','cgpa']))"
   ]
  },
  {
   "cell_type": "code",
   "execution_count": 62,
   "id": "fdafe642",
   "metadata": {},
   "outputs": [
    {
     "name": "stdout",
     "output_type": "stream",
     "text": [
      "vertical stacking:\n",
      " [[1 2]\n",
      " [3 4]\n",
      " [5 6]\n",
      " [7 8]]\n",
      "horizontal stacking:\n",
      " [[1 2 5 6]\n",
      " [3 4 7 8]]\n"
     ]
    }
   ],
   "source": [
    "a=np.array([[1,2],\n",
    "           [3,4]])\n",
    "b=np.array([[5,6],\n",
    "           [7,8]])\n",
    "print(\"vertical stacking:\\n\",np.vstack((a,b)))\n",
    "print(\"horizontal stacking:\\n\",np.hstack((a,b)))"
   ]
  },
  {
   "cell_type": "code",
   "execution_count": 63,
   "id": "1feffbb9",
   "metadata": {},
   "outputs": [
    {
     "name": "stdout",
     "output_type": "stream",
     "text": [
      "\n",
      "column stacking:\n",
      " [[1 2 5]\n",
      " [3 4 6]]\n"
     ]
    }
   ],
   "source": [
    "c=[5,6]\n",
    "print(\"\\ncolumn stacking:\\n\",np.column_stack((a,c)))"
   ]
  },
  {
   "cell_type": "code",
   "execution_count": 64,
   "id": "ea3d5d43",
   "metadata": {},
   "outputs": [
    {
     "name": "stdout",
     "output_type": "stream",
     "text": [
      "\n",
      "concatenating to 2nd axis:\n",
      " [[1 2 5 6]\n",
      " [3 4 7 8]]\n"
     ]
    }
   ],
   "source": [
    "print(\"\\nconcatenating to 2nd axis:\\n\",np.concatenate((a,b),1))"
   ]
  },
  {
   "cell_type": "code",
   "execution_count": 66,
   "id": "0c93bf6d",
   "metadata": {},
   "outputs": [
    {
     "name": "stdout",
     "output_type": "stream",
     "text": [
      "splitting along horizontal axis into 2 parts:\n",
      " [array([[1, 3, 5],\n",
      "       [2, 4, 6]]), array([[ 7,  9, 11],\n",
      "       [ 8, 10, 12]])]\n"
     ]
    }
   ],
   "source": [
    "a=np.array([[1,3,5,7,9,11],\n",
    "           [2,4,6,8,10,12]])\n",
    "print(\"splitting along horizontal axis into 2 parts:\\n\",np.hsplit(a,2))"
   ]
  },
  {
   "cell_type": "code",
   "execution_count": 67,
   "id": "a957d210",
   "metadata": {},
   "outputs": [
    {
     "name": "stdout",
     "output_type": "stream",
     "text": [
      "splitting along v axis into 2 parts:\n",
      " [array([[ 1,  3,  5,  7,  9, 11]]), array([[ 2,  4,  6,  8, 10, 12]])]\n"
     ]
    }
   ],
   "source": [
    "print(\"splitting along v axis into 2 parts:\\n\",np.vsplit(a,2))"
   ]
  },
  {
   "cell_type": "code",
   "execution_count": 68,
   "id": "e18c4ae1",
   "metadata": {},
   "outputs": [
    {
     "name": "stdout",
     "output_type": "stream",
     "text": [
      "[[1 2 3 4]\n",
      " [7 6 2 0]]\n",
      "0\n",
      "[1 2 2 0]\n",
      "[1 0]\n"
     ]
    }
   ],
   "source": [
    "a=np.array([[1,2,3,4],[7,6,2,0]])\n",
    "print(a)\n",
    "print(np.min(a))\n",
    "print(np.min(a,axis=0))\n",
    "print(np.min(a,axis=1))"
   ]
  },
  {
   "cell_type": "code",
   "execution_count": 69,
   "id": "9a440530",
   "metadata": {},
   "outputs": [
    {
     "name": "stdout",
     "output_type": "stream",
     "text": [
      "3.0\n",
      "3.0\n",
      "[4.  4.  2.5 2. ]\n",
      "[2.5  3.75]\n"
     ]
    }
   ],
   "source": [
    "b=np.array([1,2,3,4,5])\n",
    "m=sum(b)/5\n",
    "print(m)\n",
    "print(np.mean(b))\n",
    "print(np.mean(a,axis=0))\n",
    "print(np.mean(a,axis=1))"
   ]
  },
  {
   "cell_type": "code",
   "execution_count": 70,
   "id": "09d0c7d9",
   "metadata": {},
   "outputs": [
    {
     "name": "stdout",
     "output_type": "stream",
     "text": [
      "2.0\n",
      "2.4\n"
     ]
    }
   ],
   "source": [
    "c=np.array([1,5,4,2,0])\n",
    "print(np.median(c))\n",
    "print(np.mean(c))"
   ]
  },
  {
   "cell_type": "code",
   "execution_count": 71,
   "id": "00bf1e42",
   "metadata": {},
   "outputs": [
    {
     "name": "stdout",
     "output_type": "stream",
     "text": [
      "2.4\n"
     ]
    }
   ],
   "source": [
    "w=np.array([1,1,1,1,1])\n",
    "print(np.average(c,weights=w))"
   ]
  },
  {
   "cell_type": "code",
   "execution_count": 72,
   "id": "3b620433",
   "metadata": {},
   "outputs": [
    {
     "name": "stdout",
     "output_type": "stream",
     "text": [
      "1.854723699099141\n"
     ]
    }
   ],
   "source": [
    "u=np.mean(c)\n",
    "myStd=np.sqrt(np.mean(abs(c-u)**2))\n",
    "print(myStd)"
   ]
  },
  {
   "cell_type": "code",
   "execution_count": 73,
   "id": "59d21bac",
   "metadata": {},
   "outputs": [
    {
     "name": "stdout",
     "output_type": "stream",
     "text": [
      "1.854723699099141\n"
     ]
    }
   ],
   "source": [
    "dev=np.std(c)\n",
    "print(dev)"
   ]
  },
  {
   "cell_type": "code",
   "execution_count": 74,
   "id": "1e7ef87d",
   "metadata": {},
   "outputs": [
    {
     "name": "stdout",
     "output_type": "stream",
     "text": [
      "3.440000000000001\n",
      "3.4400000000000004\n"
     ]
    }
   ],
   "source": [
    "print(myStd**2)\n",
    "print(np.var(c))"
   ]
  },
  {
   "cell_type": "code",
   "execution_count": null,
   "id": "63db04dd",
   "metadata": {},
   "outputs": [],
   "source": []
  }
 ],
 "metadata": {
  "kernelspec": {
   "display_name": "Python 3",
   "language": "python",
   "name": "python3"
  },
  "language_info": {
   "codemirror_mode": {
    "name": "ipython",
    "version": 3
   },
   "file_extension": ".py",
   "mimetype": "text/x-python",
   "name": "python",
   "nbconvert_exporter": "python",
   "pygments_lexer": "ipython3",
   "version": "3.8.8"
  }
 },
 "nbformat": 4,
 "nbformat_minor": 5
}
